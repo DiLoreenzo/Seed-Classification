{
 "cells": [
  {
   "cell_type": "code",
   "execution_count": 2,
   "id": "16bde586",
   "metadata": {},
   "outputs": [],
   "source": [
    "import numpy as np\n",
    "import pandas as pd\n",
    "import seaborn as sns\n",
    "import matplotlib.pyplot as plt\n",
    "%matplotlib inline"
   ]
  },
  {
   "cell_type": "code",
   "execution_count": 3,
   "id": "183caeb3",
   "metadata": {},
   "outputs": [],
   "source": [
    "#Our Data\n",
    "seeds = pd.read_csv('class_seeds.csv')"
   ]
  },
  {
   "cell_type": "code",
   "execution_count": 4,
   "id": "649608fe",
   "metadata": {},
   "outputs": [
    {
     "data": {
      "text/html": [
       "<div>\n",
       "<style scoped>\n",
       "    .dataframe tbody tr th:only-of-type {\n",
       "        vertical-align: middle;\n",
       "    }\n",
       "\n",
       "    .dataframe tbody tr th {\n",
       "        vertical-align: top;\n",
       "    }\n",
       "\n",
       "    .dataframe thead th {\n",
       "        text-align: right;\n",
       "    }\n",
       "</style>\n",
       "<table border=\"1\" class=\"dataframe\">\n",
       "  <thead>\n",
       "    <tr style=\"text-align: right;\">\n",
       "      <th></th>\n",
       "      <th>Area</th>\n",
       "      <th>Perimeter</th>\n",
       "      <th>Compactness</th>\n",
       "      <th>KernelLength</th>\n",
       "      <th>KernelWidth</th>\n",
       "      <th>AsymCoeff</th>\n",
       "      <th>KernelGrov_Length</th>\n",
       "      <th>Class</th>\n",
       "    </tr>\n",
       "  </thead>\n",
       "  <tbody>\n",
       "    <tr>\n",
       "      <th>0</th>\n",
       "      <td>15.26</td>\n",
       "      <td>14.84</td>\n",
       "      <td>0.8710</td>\n",
       "      <td>5.763</td>\n",
       "      <td>3.312</td>\n",
       "      <td>2.221</td>\n",
       "      <td>5.220</td>\n",
       "      <td>1</td>\n",
       "    </tr>\n",
       "    <tr>\n",
       "      <th>1</th>\n",
       "      <td>14.88</td>\n",
       "      <td>14.57</td>\n",
       "      <td>0.8811</td>\n",
       "      <td>5.554</td>\n",
       "      <td>3.333</td>\n",
       "      <td>1.018</td>\n",
       "      <td>4.956</td>\n",
       "      <td>1</td>\n",
       "    </tr>\n",
       "    <tr>\n",
       "      <th>2</th>\n",
       "      <td>14.29</td>\n",
       "      <td>14.09</td>\n",
       "      <td>0.9050</td>\n",
       "      <td>5.291</td>\n",
       "      <td>3.337</td>\n",
       "      <td>2.699</td>\n",
       "      <td>4.825</td>\n",
       "      <td>1</td>\n",
       "    </tr>\n",
       "    <tr>\n",
       "      <th>3</th>\n",
       "      <td>13.84</td>\n",
       "      <td>13.94</td>\n",
       "      <td>0.8955</td>\n",
       "      <td>5.324</td>\n",
       "      <td>3.379</td>\n",
       "      <td>2.259</td>\n",
       "      <td>4.805</td>\n",
       "      <td>1</td>\n",
       "    </tr>\n",
       "    <tr>\n",
       "      <th>4</th>\n",
       "      <td>16.14</td>\n",
       "      <td>14.99</td>\n",
       "      <td>0.9034</td>\n",
       "      <td>5.658</td>\n",
       "      <td>3.562</td>\n",
       "      <td>1.355</td>\n",
       "      <td>5.175</td>\n",
       "      <td>1</td>\n",
       "    </tr>\n",
       "  </tbody>\n",
       "</table>\n",
       "</div>"
      ],
      "text/plain": [
       "    Area  Perimeter  Compactness  KernelLength  KernelWidth  AsymCoeff  \\\n",
       "0  15.26      14.84       0.8710         5.763        3.312      2.221   \n",
       "1  14.88      14.57       0.8811         5.554        3.333      1.018   \n",
       "2  14.29      14.09       0.9050         5.291        3.337      2.699   \n",
       "3  13.84      13.94       0.8955         5.324        3.379      2.259   \n",
       "4  16.14      14.99       0.9034         5.658        3.562      1.355   \n",
       "\n",
       "   KernelGrov_Length  Class  \n",
       "0              5.220      1  \n",
       "1              4.956      1  \n",
       "2              4.825      1  \n",
       "3              4.805      1  \n",
       "4              5.175      1  "
      ]
     },
     "execution_count": 4,
     "metadata": {},
     "output_type": "execute_result"
    }
   ],
   "source": [
    "seeds.head()"
   ]
  },
  {
   "cell_type": "code",
   "execution_count": 6,
   "id": "7c61e1be",
   "metadata": {},
   "outputs": [
    {
     "data": {
      "text/plain": [
       "<AxesSubplot:xlabel='Class', ylabel='count'>"
      ]
     },
     "execution_count": 6,
     "metadata": {},
     "output_type": "execute_result"
    },
    {
     "data": {
      "image/png": "[encoded data removed]",
      "text/plain": [
       "<Figure size 432x288 with 1 Axes>"
      ]
     },
     "metadata": {
      "needs_background": "light"
     },
     "output_type": "display_data"
    }
   ],
   "source": [
    "sns.countplot(x='Class',data=seeds)"
   ]
  },
  {
   "cell_type": "code",
   "execution_count": 7,
   "id": "1196fbb2",
   "metadata": {},
   "outputs": [
    {
     "name": "stdout",
     "output_type": "stream",
     "text": [
      "<class 'pandas.core.frame.DataFrame'>\n",
      "RangeIndex: 210 entries, 0 to 209\n",
      "Data columns (total 8 columns):\n",
      " #   Column             Non-Null Count  Dtype  \n",
      "---  ------             --------------  -----  \n",
      " 0   Area               210 non-null    float64\n",
      " 1   Perimeter          210 non-null    float64\n",
      " 2   Compactness        210 non-null    float64\n",
      " 3   KernelLength       210 non-null    float64\n",
      " 4   KernelWidth        210 non-null    float64\n",
      " 5   AsymCoeff          210 non-null    float64\n",
      " 6   KernelGrov_Length  210 non-null    float64\n",
      " 7   Class              210 non-null    int64  \n",
      "dtypes: float64(7), int64(1)\n",
      "memory usage: 13.2 KB\n"
     ]
    }
   ],
   "source": [
    "seeds.info()"
   ]
  },
  {
   "cell_type": "code",
   "execution_count": 8,
   "id": "0bd20e96",
   "metadata": {},
   "outputs": [
    {
     "data": {
      "text/plain": [
       "Area                 0\n",
       "Perimeter            0\n",
       "Compactness          0\n",
       "KernelLength         0\n",
       "KernelWidth          0\n",
       "AsymCoeff            0\n",
       "KernelGrov_Length    0\n",
       "Class                0\n",
       "dtype: int64"
      ]
     },
     "execution_count": 8,
     "metadata": {},
     "output_type": "execute_result"
    }
   ],
   "source": [
    "seeds.isna().sum()"
   ]
  },
  {
   "cell_type": "code",
   "execution_count": 9,
   "id": "cf8a1731",
   "metadata": {},
   "outputs": [],
   "source": [
    "#Preprocessing\n",
    "from sklearn.model_selection import train_test_split\n",
    "from sklearn.linear_model import LogisticRegression\n",
    "from sklearn.metrics import classification_report,confusion_matrix"
   ]
  },
  {
   "cell_type": "code",
   "execution_count": 11,
   "id": "5f0111f8",
   "metadata": {},
   "outputs": [],
   "source": [
    "X = seeds.drop('Class',axis=1)\n",
    "y =  seeds['Class']\n",
    "\n",
    "X_train, X_test, y_train, y_test = train_test_split(X, y, test_size=0.2, random_state=42)"
   ]
  },
  {
   "cell_type": "code",
   "execution_count": 13,
   "id": "2dfeb160",
   "metadata": {},
   "outputs": [
    {
     "data": {
      "text/plain": [
       "(168, 7)"
      ]
     },
     "execution_count": 13,
     "metadata": {},
     "output_type": "execute_result"
    }
   ],
   "source": [
    "X_train.shape"
   ]
  },
  {
   "cell_type": "code",
   "execution_count": 14,
   "id": "5e32cab5",
   "metadata": {},
   "outputs": [
    {
     "data": {
      "text/plain": [
       "(42, 7)"
      ]
     },
     "execution_count": 14,
     "metadata": {},
     "output_type": "execute_result"
    }
   ],
   "source": [
    "X_test.shape"
   ]
  },
  {
   "cell_type": "code",
   "execution_count": 16,
   "id": "9980245a",
   "metadata": {},
   "outputs": [
    {
     "data": {
      "text/plain": [
       "(168,)"
      ]
     },
     "execution_count": 16,
     "metadata": {},
     "output_type": "execute_result"
    }
   ],
   "source": [
    "y_train.shape"
   ]
  },
  {
   "cell_type": "code",
   "execution_count": 17,
   "id": "9459e2fb",
   "metadata": {},
   "outputs": [
    {
     "name": "stderr",
     "output_type": "stream",
     "text": [
      "C:\\Users\\user pc\\anaconda3\\lib\\site-packages\\sklearn\\linear_model\\_logistic.py:814: ConvergenceWarning: lbfgs failed to converge (status=1):\n",
      "STOP: TOTAL NO. of ITERATIONS REACHED LIMIT.\n",
      "\n",
      "Increase the number of iterations (max_iter) or scale the data as shown in:\n",
      "    https://scikit-learn.org/stable/modules/preprocessing.html\n",
      "Please also refer to the documentation for alternative solver options:\n",
      "    https://scikit-learn.org/stable/modules/linear_model.html#logistic-regression\n",
      "  n_iter_i = _check_optimize_result(\n"
     ]
    },
    {
     "data": {
      "text/plain": [
       "LogisticRegression()"
      ]
     },
     "execution_count": 17,
     "metadata": {},
     "output_type": "execute_result"
    }
   ],
   "source": [
    "#we create a simple model for our Classification\n",
    "seed_model =  LogisticRegression()\n",
    "seed_model.fit(X_train, y_train)"
   ]
  },
  {
   "cell_type": "code",
   "execution_count": 19,
   "id": "3d553acc",
   "metadata": {},
   "outputs": [],
   "source": [
    "seed_predictions = seed_model.predict(X_test)"
   ]
  },
  {
   "cell_type": "code",
   "execution_count": 21,
   "id": "065584f3",
   "metadata": {},
   "outputs": [
    {
     "name": "stdout",
     "output_type": "stream",
     "text": [
      "              precision    recall  f1-score   support\n",
      "\n",
      "           1       0.82      0.82      0.82        11\n",
      "           2       1.00      1.00      1.00        14\n",
      "           3       0.88      0.88      0.88        17\n",
      "\n",
      "    accuracy                           0.90        42\n",
      "   macro avg       0.90      0.90      0.90        42\n",
      "weighted avg       0.90      0.90      0.90        42\n",
      "\n",
      "[[ 9  0  2]\n",
      " [ 0 14  0]\n",
      " [ 2  0 15]]\n"
     ]
    }
   ],
   "source": [
    "#Model Evaluation\n",
    "#classification_report,confusion_matrix\n",
    "print(classification_report(y_test,seed_predictions))\n",
    "print(confusion_matrix(y_test,seed_predictions))"
   ]
  },
  {
   "cell_type": "code",
   "execution_count": null,
   "id": "a0006a4b",
   "metadata": {},
   "outputs": [],
   "source": []
  },
  {
   "cell_type": "code",
   "execution_count": null,
   "id": "438625c8",
   "metadata": {},
   "outputs": [],
   "source": []
  }
 ],
 "metadata": {
  "kernelspec": {
   "display_name": "Python 3 (ipykernel)",
   "language": "python",
   "name": "python3"
  },
  "language_info": {
   "codemirror_mode": {
    "name": "ipython",
    "version": 3
   },
   "file_extension": ".py",
   "mimetype": "text/x-python",
   "name": "python",
   "nbconvert_exporter": "python",
   "pygments_lexer": "ipython3",
   "version": "3.9.12"
  }
 },
 "nbformat": 4,
 "nbformat_minor": 5
}
